{
 "cells": [
  {
   "cell_type": "code",
   "execution_count": null,
   "metadata": {},
   "outputs": [],
   "source": [
    "import pandas as pd\n",
    "import numpy as np\n",
    "import json\n",
    "\n",
    "df = pd.read_csv(\"./data/embeddings_with_metadata.csv\")\n",
    "df_archive = pd.read_csv(\"./data/embeddings_classic.csv\")\n",
    "df.iloc[:, 0] = df.iloc[:, 0].apply(lambda x: x[7:]).apply(lambda x: x[: x.find(\"/\")])\n",
    "df[\"embedding\"] = df[\"embedding\"].apply(json.loads)\n",
    "df_archive[\"embedding\"] = df_archive[\"embedding\"].apply(json.loads)\n",
    "df[\"genre_or_composer\"] = df[\"filename\"]\n",
    "df_archive[\"genre_or_composer\"] = df_archive[\"composer\"]"
   ]
  },
  {
   "cell_type": "code",
   "execution_count": null,
   "metadata": {},
   "outputs": [],
   "source": [
    "X = np.array(df[\"embedding\"].tolist())\n",
    "y = df[\"filename\"].values"
   ]
  },
  {
   "cell_type": "code",
   "execution_count": null,
   "metadata": {},
   "outputs": [],
   "source": [
    "from sklearn.manifold import TSNE\n",
    "from sklearn.preprocessing import LabelEncoder\n",
    "\n",
    "model = TSNE(n_components=2)\n",
    "result = model.fit_transform(X)\n",
    "\n",
    "label_encoder = LabelEncoder()\n",
    "y_encoded = label_encoder.fit_transform(y)\n",
    "unique_labels = label_encoder.classes_"
   ]
  },
  {
   "cell_type": "code",
   "execution_count": null,
   "metadata": {},
   "outputs": [],
   "source": [
    "import seaborn as sns\n",
    "import matplotlib.pyplot as plt\n",
    "from matplotlib import patches as mpatches\n",
    "\n",
    "distinct_colors = sns.color_palette(\"hls\", len(unique_labels))\n",
    "\n",
    "# 각 샘플별로 매핑된 색상을 리스트로 생성\n",
    "sample_colors = [distinct_colors[label] for label in y_encoded]\n",
    "\n",
    "plt.figure(figsize=(20, 15))\n",
    "scatter = plt.scatter(result[:, 0], result[:, 1], c=sample_colors, alpha=0.7)\n",
    "plt.title(\"TSNE embedding plot (label: Genre)\", fontsize=20)\n",
    "plt.xlabel(\"TSNE Dimension 1\", fontsize=16)\n",
    "plt.ylabel(\"TSNE Dimension 2\", fontsize=16)\n",
    "plt.grid(True)\n",
    "plt.tight_layout()\n",
    "\n",
    "# 범례 생성: 각 고유 라벨과 해당 색상을 매핑\n",
    "patches = [\n",
    "    mpatches.Patch(color=distinct_colors[i], label=unique_labels[i])\n",
    "    for i in range(len(unique_labels))\n",
    "]\n",
    "plt.legend(handles=patches, title=\"Labels\", loc=\"best\", fontsize=12, title_fontsize=14)\n",
    "\n",
    "plt.show()"
   ]
  },
  {
   "cell_type": "code",
   "execution_count": null,
   "metadata": {},
   "outputs": [],
   "source": [
    "X = np.array(df_archive[\"embedding\"].tolist())\n",
    "y = df_archive[\"genre_or_composer\"].values"
   ]
  },
  {
   "cell_type": "code",
   "execution_count": null,
   "metadata": {},
   "outputs": [],
   "source": [
    "from sklearn.manifold import TSNE\n",
    "from sklearn.preprocessing import LabelEncoder\n",
    "\n",
    "model = TSNE(n_components=2)\n",
    "result = model.fit_transform(X)\n",
    "\n",
    "label_encoder = LabelEncoder()\n",
    "y_encoded = label_encoder.fit_transform(y)\n",
    "unique_labels = label_encoder.classes_"
   ]
  },
  {
   "cell_type": "code",
   "execution_count": null,
   "metadata": {},
   "outputs": [],
   "source": [
    "distinct_colors = sns.color_palette(\"hls\", len(unique_labels))\n",
    "\n",
    "# 각 샘플별로 매핑된 색상을 리스트로 생성\n",
    "sample_colors = [distinct_colors[label] for label in y_encoded]\n",
    "\n",
    "plt.figure(figsize=(20, 15))\n",
    "scatter = plt.scatter(result[:, 0], result[:, 1], c=sample_colors, alpha=0.7)\n",
    "plt.title(\"TSNE embedding plot (label: Composers)\", fontsize=20)\n",
    "plt.xlabel(\"TSNE Dimension 1\", fontsize=16)\n",
    "plt.ylabel(\"TSNE Dimension 2\", fontsize=16)\n",
    "plt.grid(True)\n",
    "plt.tight_layout()\n",
    "\n",
    "# 범례 생성: 각 고유 라벨과 해당 색상을 매핑\n",
    "patches = [\n",
    "    mpatches.Patch(color=distinct_colors[i], label=unique_labels[i])\n",
    "    for i in range(len(unique_labels))\n",
    "]\n",
    "plt.legend(handles=patches, title=\"Labels\", loc=\"best\", fontsize=12, title_fontsize=14)\n",
    "\n",
    "plt.show()"
   ]
  },
  {
   "cell_type": "code",
   "execution_count": null,
   "metadata": {},
   "outputs": [],
   "source": [
    "con_df = pd.concat(\n",
    "    [\n",
    "        df.loc[:, [\"embedding\", \"genre_or_composer\"]],\n",
    "        df_archive.loc[:, [\"embedding\", \"genre_or_composer\"]],\n",
    "    ]\n",
    ")"
   ]
  },
  {
   "cell_type": "code",
   "execution_count": null,
   "metadata": {},
   "outputs": [],
   "source": [
    "X = np.array(con_df[\"embedding\"].tolist())\n",
    "y = con_df[\"genre_or_composer\"].values"
   ]
  },
  {
   "cell_type": "code",
   "execution_count": null,
   "metadata": {},
   "outputs": [],
   "source": [
    "from sklearn.manifold import TSNE\n",
    "from sklearn.preprocessing import LabelEncoder\n",
    "\n",
    "model = TSNE(n_components=2)\n",
    "result = model.fit_transform(X)\n",
    "\n",
    "label_encoder = LabelEncoder()\n",
    "y_encoded = label_encoder.fit_transform(y)\n",
    "unique_labels = label_encoder.classes_"
   ]
  },
  {
   "cell_type": "code",
   "execution_count": null,
   "metadata": {},
   "outputs": [],
   "source": [
    "distinct_colors = sns.color_palette(\"hls\", len(unique_labels))\n",
    "\n",
    "# 각 샘플별로 매핑된 색상을 리스트로 생성\n",
    "sample_colors = [distinct_colors[label] for label in y_encoded]\n",
    "\n",
    "plt.figure(figsize=(20, 15))\n",
    "scatter = plt.scatter(result[:, 0], result[:, 1], c=sample_colors, alpha=0.7)\n",
    "plt.title(\"TSNE embedding plot (label: Genre and Composers)\", fontsize=20)\n",
    "plt.xlabel(\"TSNE Dimension 1\", fontsize=16)\n",
    "plt.ylabel(\"TSNE Dimension 2\", fontsize=16)\n",
    "plt.grid(True)\n",
    "plt.tight_layout()\n",
    "\n",
    "# 범례 생성: 각 고유 라벨과 해당 색상을 매핑\n",
    "patches = [\n",
    "    mpatches.Patch(color=distinct_colors[i], label=unique_labels[i])\n",
    "    for i in range(len(unique_labels))\n",
    "]\n",
    "plt.legend(handles=patches, title=\"Labels\", loc=\"best\", fontsize=12, title_fontsize=14)\n",
    "\n",
    "plt.show()"
   ]
  },
  {
   "cell_type": "code",
   "execution_count": null,
   "metadata": {},
   "outputs": [],
   "source": []
  },
  {
   "cell_type": "code",
   "execution_count": null,
   "metadata": {},
   "outputs": [],
   "source": []
  }
 ],
 "metadata": {
  "kernelspec": {
   "display_name": "music_cluster",
   "language": "python",
   "name": "python3"
  },
  "language_info": {
   "codemirror_mode": {
    "name": "ipython",
    "version": 3
   },
   "file_extension": ".py",
   "mimetype": "text/x-python",
   "name": "python",
   "nbconvert_exporter": "python",
   "pygments_lexer": "ipython3",
   "version": "3.10.16"
  }
 },
 "nbformat": 4,
 "nbformat_minor": 2
}
